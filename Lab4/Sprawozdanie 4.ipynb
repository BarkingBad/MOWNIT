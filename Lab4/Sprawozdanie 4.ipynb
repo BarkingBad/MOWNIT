{
 "cells": [
  {
   "cell_type": "code",
   "execution_count": null,
   "metadata": {},
   "outputs": [],
   "source": [
    "setwd(\"/home/andrzej/Dokumenty/Mownit/Lab4\")\n",
    "\n",
    "results = read.csv(\"csv.csv\", sep=\";\")\n",
    "\n",
    "avg_results = aggregate( TIME ~ N:TYPE, data=results, FUN=mean)\n",
    "avg_results$sd = aggregate( TIME ~ N:TYPE, data=results, FUN=sd)$TIME\n",
    "\n",
    "naive_r = avg_results[avg_results$TYPE == 'naive',]\n",
    "better_r = avg_results[avg_results$TYPE == 'better',]\n",
    "blas_r = avg_results[avg_results$TYPE == 'blas',]\n",
    "\n",
    "fit1 = lm(naive_r$TIME ~ poly(naive_r$N, 3, raw=TRUE), data=data.frame(naive_r$N, naive_r$TIME))\n",
    "fit2= lm(better_r $TIME ~ poly(better_r $N, 3, raw=TRUE), data=data.frame(better_r $N, better_r $TIME))\n",
    "fit3= lm(blas_r$TIME ~ poly(blas_r$N, 3, raw=TRUE), data=data.frame(blas_r$N, blas_r$TIME))\n",
    "\n",
    "ggplot(avg_results, aes(N,TIME,color=TYPE)) + \n",
    "  geom_point() + \n",
    "  geom_errorbar(aes(ymin = TIME - sd, ymax = TIME + sd, width=5)) +\n",
    "  geom_line(data=naive_r, aes(naive_r$N, predict(fit1, naive_r))) +\n",
    "  geom_line(data=better_r, aes(better_r$N, predict(fit2, better_r))) +\n",
    "  geom_line(data=blas_r, aes(blas_r$N, predict(fit3, blas_r)))  +\n",
    "  xlab(\"N [size of matrix]\") +\n",
    "  ylab(\"Time [ms]\")"
   ]
  }
 ],
 "metadata": {
  "kernelspec": {
   "display_name": "Julia 1.0.3 (4 threads)",
   "language": "julia",
   "name": "julia-1.0k"
  },
  "language_info": {
   "file_extension": ".jl",
   "mimetype": "application/julia",
   "name": "julia",
   "version": "1.0.3"
  }
 },
 "nbformat": 4,
 "nbformat_minor": 2
}
